{
 "cells": [
  {
   "cell_type": "code",
   "execution_count": 4,
   "metadata": {
    "collapsed": false,
    "deletable": true,
    "editable": true
   },
   "outputs": [],
   "source": [
    "import numpy as np\n",
    "import pandas as pd\n",
    "\n",
    "from matplotlib import animation\n",
    "from matplotlib import colors\n",
    "from matplotlib import pyplot as plt\n",
    "\n",
    "from IPython.core.pylabtools import figsize\n",
    "from IPython import display\n",
    "\n",
    "%matplotlib inline\n",
    "import seaborn\n",
    "seaborn.set()"
   ]
  },
  {
   "cell_type": "code",
   "execution_count": 5,
   "metadata": {
    "collapsed": false,
    "deletable": true,
    "editable": true
   },
   "outputs": [
    {
     "data": {
      "text/plain": [
       "<module 'yvolv.simulate' from '/Users/Jeff/Code/yvolv/yvolv/simulate.pyc'>"
      ]
     },
     "execution_count": 5,
     "metadata": {},
     "output_type": "execute_result"
    }
   ],
   "source": [
    "from yvolv import world\n",
    "from yvolv import beast\n",
    "from yvolv import simulate\n",
    "\n",
    "reload(world)\n",
    "reload(beast)\n",
    "reload(simulate)"
   ]
  },
  {
   "cell_type": "code",
   "execution_count": 13,
   "metadata": {
    "collapsed": true
   },
   "outputs": [],
   "source": [
    "figsize(16, 8)\n",
    "\n",
    "def animate_evol(savepath, frames, worldsize=300, ticks_per_frame=3):\n",
    "    w = world.World(worldsize, worldsize / 2, tpoints=50, bpoints=60)\n",
    "    s = simulate.Simulation(w, 5000)\n",
    "    fig, ax = plt.subplots()\n",
    "    ax.axis(\"off\")\n",
    "    im = ax.imshow(s.image(), interpolation=\"none\", filternorm=0, animated=True)\n",
    "    plt.show()\n",
    "    updater = make_updater(s, w, ax, im, ticks_per_frame=ticks_per_frame)\n",
    "    anim = animation.FuncAnimation(fig, updater, frames=frames, interval=170, blit=True)\n",
    "    anim.save(savepath, dpi=64, writer=\"imagemagick\")\n",
    "    return s, anim\n",
    "\n",
    "def make_updater(s, w, ax, im, ticks_per_frame=3):\n",
    "    def _update(i):\n",
    "        for t in np.arange(ticks_per_frame):\n",
    "            s.tick()\n",
    "        emax = max(b.energy for b in s.herd)\n",
    "        eavg = np.mean([b.energy for b in s.herd])\n",
    "        gmax = max(b.generation for b in s.herd)\n",
    "        gavg = np.mean([b.generation for b in s.herd])\n",
    "        gmin = min(b.generation for b in s.herd)\n",
    "        amax = max(b.age for b in s.herd)\n",
    "        aavg = np.mean([b.age for b in s.herd])\n",
    "        im.set_array(s.image())\n",
    "        tstring =(\n",
    "            \"tick={} pop={}       \"\n",
    "            \"^energy={} *energy={}       \"\n",
    "            \"^gen={} *gen={} _gen={}       \"\n",
    "            \"^age={} *age={}\".format(\n",
    "                s.world.age, len(s.herd),\n",
    "                round(emax, 2), round(eavg, 2),\n",
    "                gmax, round(gavg, 1), gmin,\n",
    "                amax, round(aavg)))\n",
    "        ax.set_title(tstring)\n",
    "        print tstring\n",
    "        return im, ax\n",
    "    return _update"
   ]
  },
  {
   "cell_type": "code",
   "execution_count": 17,
   "metadata": {
    "collapsed": false,
    "scrolled": true
   },
   "outputs": [],
   "source": [
    "s, anim = animate_evol(\"/Users/Jeff/Desktop/evol_11.gif\", 2000, worldsize=300, ticks_per_frame=30)"
   ]
  },
  {
   "cell_type": "code",
   "execution_count": null,
   "metadata": {
    "collapsed": true
   },
   "outputs": [],
   "source": []
  }
 ],
 "metadata": {
  "kernelspec": {
   "display_name": "Python 2",
   "language": "python",
   "name": "python2"
  },
  "language_info": {
   "codemirror_mode": {
    "name": "ipython",
    "version": 2
   },
   "file_extension": ".py",
   "mimetype": "text/x-python",
   "name": "python",
   "nbconvert_exporter": "python",
   "pygments_lexer": "ipython2",
   "version": "2.7.10"
  }
 },
 "nbformat": 4,
 "nbformat_minor": 0
}
